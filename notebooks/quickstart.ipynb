{
 "cells": [
  {
   "cell_type": "code",
   "execution_count": 1,
   "id": "upper-facing",
   "metadata": {},
   "outputs": [],
   "source": [
    "import futureframe as ff"
   ]
  },
  {
   "cell_type": "code",
   "execution_count": 2,
   "id": "b92b4905-1a84-4e44-b208-da5a372d649b",
   "metadata": {},
   "outputs": [],
   "source": [
    "train = \"\"\"MonsoonIntensity,TopographyDrainage,RiverManagement,Deforestation,Urbanization,ClimateChange,DamsQuality,\\\n",
    "Siltation,AgriculturalPractices,Encroachments,IneffectiveDisasterPreparedness,DrainageSystems,CoastalVulnerability,\\\n",
    "Landslides,Watersheds,DeterioratingInfrastructure,PopulationScore,WetlandLoss,InadequatePlanning,PoliticalFactors,\\\n",
    "FloodProbability\n",
    "5,8,5,8,6,4,4,3,3,4,2,5,3,3,5,4,7,5,7,3,0.445\n",
    "6,7,4,4,8,8,3,5,4,6,9,7,2,0,3,5,3,3,4,3,0.45\n",
    "6,5,6,7,3,7,1,5,4,5,6,7,3,7,5,6,8,2,3,3,0.53\n",
    "3,4,6,5,4,8,4,7,6,8,5,2,4,7,4,4,6,5,7,5,0.535\n",
    "5,3,2,6,4,4,3,3,3,3,5,2,2,6,6,4,1,2,3,5,0.415\n",
    "5,4,1,4,2,4,6,6,7,5,5,3,5,5,4,4,6,8,3,2,0.44\n",
    "8,3,1,2,3,7,3,4,6,7,5,2,5,6,4,5,6,3,4,6,0.46\n",
    "6,6,5,7,5,5,3,5,5,5,3,5,3,5,5,8,6,8,5,6,0.595\n",
    "5,2,8,5,4,5,2,4,5,5,2,9,2,7,3,4,6,4,5,5,0.505\n",
    "\"\"\"\n",
    "query = \"4,5,6,9,5,5,2,8,4,5,1,4,8,6,5,5,6,7,7,8,\"\n",
    "target = \"0.56\""
   ]
  },
  {
   "cell_type": "code",
   "execution_count": 5,
   "id": "b3fe0c82-ab75-4f16-ae51-0a3f712a9890",
   "metadata": {},
   "outputs": [
    {
     "name": "stdout",
     "output_type": "stream",
     "text": [
      "prediction='0.57', target='0.56'\n"
     ]
    }
   ],
   "source": [
    "prediction = ff.predict_serialized(query, train, api_key=\"sk-proj-Nb96xx0bLfKrgxLyKaovT3BlbkFJa5WM2dJQwczRiquS9cez\", verbose=False)\n",
    "print(f\"{prediction=}, {target=}\")"
   ]
  },
  {
   "cell_type": "code",
   "execution_count": null,
   "id": "ce36f232-d726-48aa-b1b8-03d5739225ff",
   "metadata": {},
   "outputs": [],
   "source": []
  }
 ],
 "metadata": {
  "kernelspec": {
   "display_name": "Python 3 (ipykernel)",
   "language": "python",
   "name": "python3"
  },
  "language_info": {
   "codemirror_mode": {
    "name": "ipython",
    "version": 3
   },
   "file_extension": ".py",
   "mimetype": "text/x-python",
   "name": "python",
   "nbconvert_exporter": "python",
   "pygments_lexer": "ipython3",
   "version": "3.12.0"
  }
 },
 "nbformat": 4,
 "nbformat_minor": 5
}
